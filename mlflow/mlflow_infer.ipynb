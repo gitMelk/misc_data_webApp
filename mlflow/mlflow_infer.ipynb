{
 "cells": [
  {
   "cell_type": "code",
   "execution_count": 5,
   "metadata": {},
   "outputs": [],
   "source": [
    "import mlflow\n",
    "mlflow.set_tracking_uri(\"http://127.0.0.1:5000\")"
   ]
  },
  {
   "cell_type": "code",
   "execution_count": 6,
   "metadata": {},
   "outputs": [],
   "source": [
    "model_sentiment = mlflow.pyfunc.load_model('models:/Sentiment/latest')\n",
    "model_emotions = mlflow.pyfunc.load_model('models:/Emotions/latest')"
   ]
  },
  {
   "cell_type": "code",
   "execution_count": 7,
   "metadata": {},
   "outputs": [
    {
     "data": {
      "text/plain": [
       "[[{'label': 'negative', 'score': 0.9997740387916565},\n",
       "  {'label': 'positive', 'score': 0.00022594848996959627}]]"
      ]
     },
     "execution_count": 7,
     "metadata": {},
     "output_type": "execute_result"
    }
   ],
   "source": [
    "model_sentiment.predict(\"sono triste\")"
   ]
  },
  {
   "cell_type": "code",
   "execution_count": 11,
   "metadata": {},
   "outputs": [
    {
     "data": {
      "text/plain": [
       "[[{'label': 'anger', 'score': 0.5928352475166321},\n",
       "  {'label': 'fear', 'score': 0.0034160041250288486},\n",
       "  {'label': 'joy', 'score': 0.00034807389602065086},\n",
       "  {'label': 'sadness', 'score': 0.403400719165802}]]"
      ]
     },
     "execution_count": 11,
     "metadata": {},
     "output_type": "execute_result"
    }
   ],
   "source": [
    "model_emotions.predict(\"Io ti estirperò, Saruman, come il veleno viene estirpato da una ferita!\")"
   ]
  },
  {
   "cell_type": "code",
   "execution_count": null,
   "metadata": {},
   "outputs": [],
   "source": []
  }
 ],
 "metadata": {
  "kernelspec": {
   "display_name": "WLS_CPU_python",
   "language": "python",
   "name": "python3"
  },
  "language_info": {
   "codemirror_mode": {
    "name": "ipython",
    "version": 3
   },
   "file_extension": ".py",
   "mimetype": "text/x-python",
   "name": "python",
   "nbconvert_exporter": "python",
   "pygments_lexer": "ipython3",
   "version": "3.8.0 (default, Nov  6 2019, 21:49:08) \n[GCC 7.3.0]"
  },
  "orig_nbformat": 4,
  "vscode": {
   "interpreter": {
    "hash": "55bea8bc0bcce7d1449ebbc846a52ee790af1253b09d4e148b05ec45c8d23b31"
   }
  }
 },
 "nbformat": 4,
 "nbformat_minor": 2
}
